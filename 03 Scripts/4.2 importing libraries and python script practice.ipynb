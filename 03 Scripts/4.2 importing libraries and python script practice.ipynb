{
 "cells": [
  {
   "cell_type": "markdown",
   "id": "eb74bb8f",
   "metadata": {},
   "source": [
    "# import libraries"
   ]
  },
  {
   "cell_type": "code",
   "execution_count": null,
   "id": "fbca4eb1",
   "metadata": {},
   "outputs": [],
   "source": [
    "# import panda, numpy and os\n",
    "import pandas as pd\n",
    "import numpy as np\n",
    "import os"
   ]
  },
  {
   "cell_type": "markdown",
   "id": "09b8da8c",
   "metadata": {},
   "source": [
    "# working with python data types"
   ]
  },
  {
   "cell_type": "code",
   "execution_count": 5,
   "id": "dfb4c011",
   "metadata": {},
   "outputs": [
    {
     "data": {
      "text/plain": [
       "100"
      ]
     },
     "execution_count": 5,
     "metadata": {},
     "output_type": "execute_result"
    }
   ],
   "source": [
    "a = 50\n",
    "a + a"
   ]
  },
  {
   "cell_type": "code",
   "execution_count": 6,
   "id": "db7de0b9",
   "metadata": {},
   "outputs": [
    {
     "data": {
      "text/plain": [
       "100"
      ]
     },
     "execution_count": 6,
     "metadata": {},
     "output_type": "execute_result"
    }
   ],
   "source": [
    "b = 30\n",
    "b + b + 40"
   ]
  },
  {
   "cell_type": "code",
   "execution_count": 7,
   "id": "cb8a05bd",
   "metadata": {},
   "outputs": [
    {
     "data": {
      "text/plain": [
       "100"
      ]
     },
     "execution_count": 7,
     "metadata": {},
     "output_type": "execute_result"
    }
   ],
   "source": [
    "c = 80\n",
    "a + c - b"
   ]
  },
  {
   "cell_type": "code",
   "execution_count": 8,
   "id": "04a4f23e",
   "metadata": {},
   "outputs": [
    {
     "data": {
      "text/plain": [
       "0.6443877551020408"
      ]
     },
     "execution_count": 8,
     "metadata": {},
     "output_type": "execute_result"
    }
   ],
   "source": [
    "d = 3.789\n",
    "e = 5.88\n",
    "d/e"
   ]
  },
  {
   "cell_type": "code",
   "execution_count": 9,
   "id": "e9e68003",
   "metadata": {},
   "outputs": [
    {
     "data": {
      "text/plain": [
       "'bullfrog'"
      ]
     },
     "execution_count": 9,
     "metadata": {},
     "output_type": "execute_result"
    }
   ],
   "source": [
    "f = 'frog'\n",
    "g = 'bull'\n",
    "g + f"
   ]
  },
  {
   "cell_type": "code",
   "execution_count": 10,
   "id": "d47f2ede",
   "metadata": {},
   "outputs": [
    {
     "data": {
      "text/plain": [
       "'Hello, my name is Elliot'"
      ]
     },
     "execution_count": 10,
     "metadata": {},
     "output_type": "execute_result"
    }
   ],
   "source": [
    "h = 'Hello, '\n",
    "i = 'my name is Elliot'\n",
    "h + i"
   ]
  },
  {
   "cell_type": "code",
   "execution_count": 11,
   "id": "26af8a54",
   "metadata": {},
   "outputs": [
    {
     "data": {
      "text/plain": [
       "'Writing python scriptsis fun!'"
      ]
     },
     "execution_count": 11,
     "metadata": {},
     "output_type": "execute_result"
    }
   ],
   "source": [
    "j = 'Writing python scripts'\n",
    "k = 'is fun!'\n",
    "j + k"
   ]
  },
  {
   "cell_type": "code",
   "execution_count": 12,
   "id": "301bd60f",
   "metadata": {
    "scrolled": true
   },
   "outputs": [
    {
     "data": {
      "text/plain": [
       "'frogfrogfrogfrogfrogfrogfrogfrogfrogfrogfrogfrogfrogfrogfrogfrogfrogfrogfrogfrogfrogfrogfrogfrogfrogfrogfrogfrogfrogfrogfrogfrogfrogfrogfrogfrogfrogfrogfrogfrogfrogfrogfrogfrogfrogfrogfrogfrogfrogfrogfrogfrogfrogfrogfrogfrogfrogfrogfrogfrogfrogfrogfrogfrogfrogfrogfrogfrogfrogfrogfrogfrogfrogfrogfrogfrogfrogfrogfrogfrogfrogfrogfrogfrogfrogfrogfrogfrogfrogfrogfrogfrogfrogfrogfrogfrogfrogfrogfrogfrog'"
      ]
     },
     "execution_count": 12,
     "metadata": {},
     "output_type": "execute_result"
    }
   ],
   "source": [
    "f * 100"
   ]
  }
 ],
 "metadata": {
  "kernelspec": {
   "display_name": "Python 3 (ipykernel)",
   "language": "python",
   "name": "python3"
  },
  "language_info": {
   "codemirror_mode": {
    "name": "ipython",
    "version": 3
   },
   "file_extension": ".py",
   "mimetype": "text/x-python",
   "name": "python",
   "nbconvert_exporter": "python",
   "pygments_lexer": "ipython3",
   "version": "3.10.9"
  }
 },
 "nbformat": 4,
 "nbformat_minor": 5
}
